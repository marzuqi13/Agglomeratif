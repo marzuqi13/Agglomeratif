{
 "cells": [
  {
   "cell_type": "code",
   "execution_count": 1,
   "metadata": {},
   "outputs": [],
   "source": [
    "\n",
    "import pandas as pd\n",
    "import numpy as np\n",
    "import matplotlib.pyplot as plt\n",
    "from sklearn.datasets import make_blobs"
   ]
  },
  {
   "cell_type": "code",
   "execution_count": 2,
   "metadata": {},
   "outputs": [
    {
     "name": "stdout",
     "output_type": "stream",
     "text": [
      "     x   y\n",
      "0    5  63\n",
      "1   23  52\n",
      "2   76  41\n",
      "3   21   7\n",
      "4   52   4\n",
      "5   67  10\n",
      "6   99  99\n",
      "7   87   7\n",
      "8   12  64\n",
      "9   45   8\n",
      "10  97   9\n",
      "11  68  18\n",
      "12  87  28\n",
      "13  32  74\n",
      "14  15  59\n",
      "15  57  30\n",
      "16  44  50\n",
      "17  22  89\n",
      "18  67  11\n",
      "19   9  16\n",
      "20  15  28\n",
      "21  85  33\n",
      "22  34  44\n",
      "23  25  54\n",
      "24  16  39\n",
      "25  51  20\n",
      "26  73  88\n",
      "27  75  75\n",
      "28  25  72\n",
      "29  41  30\n"
     ]
    }
   ],
   "source": [
    "df = pd.DataFrame({\n",
    "    'x':[5,23,76,21,52,67,99,87,12,45,97,68,87,32,15,57,44,22,67,9,15,85,34,25,16,51,73,75,25,41],\n",
    "    'y':[63,52,41,7,4,10,99,7,64,8,9,18,28,74,59,30,50,89,11,16,28,33,44,54,39,20,88,75,72,30]\n",
    "})\n",
    "print(df)\n"
   ]
  },
  {
   "cell_type": "code",
   "execution_count": 3,
   "metadata": {},
   "outputs": [],
   "source": [
    "import scipy.cluster.hierarchy as sch\n",
    "from sklearn.cluster import AgglomerativeClustering"
   ]
  },
  {
   "cell_type": "code",
   "execution_count": 4,
   "metadata": {},
   "outputs": [
    {
     "data": {
      "image/png": "[encoded data removed]",
      "text/plain": [
       "<Figure size 432x288 with 1 Axes>"
      ]
     },
     "metadata": {
      "needs_background": "light"
     },
     "output_type": "display_data"
    }
   ],
   "source": [
    "#Membuat dendrogram\n",
    "dendogram = sch.dendrogram(sch.linkage(df, method='ward'))"
   ]
  },
  {
   "cell_type": "code",
   "execution_count": null,
   "metadata": {},
   "outputs": [],
   "source": []
  },
  {
   "cell_type": "code",
   "execution_count": 5,
   "metadata": {},
   "outputs": [],
   "source": [
    "hc =AgglomerativeClustering(n_clusters = 4, affinity = 'euclidean', linkage='ward')\n",
    "y_hc = hc.fit_predict(df)"
   ]
  },
  {
   "cell_type": "code",
   "execution_count": 6,
   "metadata": {},
   "outputs": [
    {
     "name": "stdout",
     "output_type": "stream",
     "text": [
      "[1 1 0 3 0 0 2 0 1 0 0 0 0 1 1 0 1 1 0 3 3 0 1 1 3 0 2 2 1 0]\n"
     ]
    }
   ],
   "source": [
    "print(y_hc)"
   ]
  },
  {
   "cell_type": "code",
   "execution_count": 7,
   "metadata": {},
   "outputs": [
    {
     "data": {
      "text/plain": [
       "<matplotlib.collections.PathCollection at 0x1855be85630>"
      ]
     },
     "execution_count": 7,
     "metadata": {},
     "output_type": "execute_result"
    },
    {
     "data": {
      "image/png": "[encoded data removed]",
      "text/plain": [
       "<Figure size 432x288 with 1 Axes>"
      ]
     },
     "metadata": {
      "needs_background": "light"
     },
     "output_type": "display_data"
    }
   ],
   "source": [
    "ds = np.array(df)\n",
    "plt.scatter(ds[y_hc ==0,0], ds[y_hc == 0,1], s =100, c ='cyan')\n",
    "plt.scatter(ds[y_hc ==1,0], ds[y_hc == 1,1], s =100, c ='red')\n",
    "plt.scatter(ds[y_hc ==2,0], ds[y_hc == 2,1], s =100, c ='green')\n",
    "plt.scatter(ds[y_hc ==3,0], ds[y_hc == 3,1], s =100, c ='black')"
   ]
  },
  {
   "cell_type": "code",
   "execution_count": null,
   "metadata": {},
   "outputs": [],
   "source": []
  }
 ],
 "metadata": {
  "kernelspec": {
   "display_name": "Python 3",
   "language": "python",
   "name": "python3"
  },
  "language_info": {
   "codemirror_mode": {
    "name": "ipython",
    "version": 3
   },
   "file_extension": ".py",
   "mimetype": "text/x-python",
   "name": "python",
   "nbconvert_exporter": "python",
   "pygments_lexer": "ipython3",
   "version": "3.7.3"
  }
 },
 "nbformat": 4,
 "nbformat_minor": 2
}
